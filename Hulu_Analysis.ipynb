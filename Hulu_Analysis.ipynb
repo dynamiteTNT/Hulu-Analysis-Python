{
 "cells": [
  {
   "cell_type": "code",
   "execution_count": 6,
   "id": "258c84e4-2db4-436a-aeee-5308463f1c80",
   "metadata": {},
   "outputs": [
    {
     "name": "stdout",
     "output_type": "stream",
     "text": [
      "                 title   type                     genres  releaseYear  \\\n",
      "0                Ariel  movie     Comedy, Crime, Romance       1988.0   \n",
      "1  Shadows in Paradise  movie       Comedy, Drama, Music       1986.0   \n",
      "2         Forrest Gump  movie             Drama, Romance       1994.0   \n",
      "3    The Fifth Element  movie  Action, Adventure, Sci-Fi       1997.0   \n",
      "4   My Life Without Me  movie             Drama, Romance       2003.0   \n",
      "\n",
      "      imdbId  imdbAverageRating  imdbNumVotes availableCountries  \n",
      "0  tt0094675                7.4        8776.0                 JP  \n",
      "1  tt0092149                7.5        7538.0                 JP  \n",
      "2  tt0109830                8.8     2320505.0                 JP  \n",
      "3  tt0119116                7.6      517631.0                 JP  \n",
      "4  tt0314412                7.4       26044.0                 JP  \n"
     ]
    }
   ],
   "source": [
    "import pandas as pd\n",
    "import matplotlib.pyplot as plt\n",
    "import seaborn as sns\n",
    "\n",
    "# Ladoing data\n",
    "df = pd.read_csv('C:/Users/tthan/OneDrive/Desktop/Projects/hulu.csv')\n",
    "print(df.head())"
   ]
  },
  {
   "cell_type": "markdown",
   "id": "8bcbeda0-0ccd-4c27-a4f0-a4b7bad79ae9",
   "metadata": {},
   "source": [
    "# How many titles are there in the dataset?"
   ]
  },
  {
   "cell_type": "code",
   "execution_count": 16,
   "id": "4f5497d5-a723-4fc1-82ab-84645d28deb4",
   "metadata": {},
   "outputs": [
    {
     "name": "stdout",
     "output_type": "stream",
     "text": [
      "Total # of movies: 9845\n"
     ]
    }
   ],
   "source": [
    "total_titles = len(df)\n",
    "print(f\"Total # of movies: {total_titles}\")"
   ]
  },
  {
   "cell_type": "markdown",
   "id": "6cdc7794-4351-4957-94e9-089017d3ea39",
   "metadata": {},
   "source": [
    "# Which top 5 movies / tv were released in 1993?"
   ]
  },
  {
   "cell_type": "code",
   "execution_count": 15,
   "id": "a1f84ac2-3571-4d2a-827b-0435ade2835a",
   "metadata": {},
   "outputs": [
    {
     "name": "stdout",
     "output_type": "stream",
     "text": [
      "                      title  releaseYear  imdbAverageRating\n",
      "6633              Slam Dunk       1993.0                8.7\n",
      "6121            The X-Files       1993.0                8.6\n",
      "59            Jurassic Park       1993.0                8.2\n",
      "6112                Frasier       1993.0                8.2\n",
      "423   Farewell My Concubine       1993.0                8.1\n"
     ]
    }
   ],
   "source": [
    "top_5 = df[df['releaseYear'] == 1993].sort_values(by='imdbAverageRating', ascending=False).head(5)\n",
    "print(top_5[['title', 'releaseYear', 'imdbAverageRating']])"
   ]
  },
  {
   "cell_type": "markdown",
   "id": "d840d1d7-847e-44e8-84d2-54c0c6d05928",
   "metadata": {},
   "source": [
    "# What is the average IMDb rating of all titles in the dataset?"
   ]
  },
  {
   "cell_type": "code",
   "execution_count": 18,
   "id": "44553597-5497-41b4-891c-fed06bdf184c",
   "metadata": {},
   "outputs": [
    {
     "name": "stdout",
     "output_type": "stream",
     "text": [
      "Average IMDb Rating: 6.56\n"
     ]
    }
   ],
   "source": [
    "average_rating = df['imdbAverageRating'].mean()\n",
    "print(f\"Average IMDb Rating: {average_rating:.2f}\")"
   ]
  },
  {
   "cell_type": "markdown",
   "id": "64f2fffb-3077-4d9f-af2f-d0a417cfd401",
   "metadata": {},
   "source": [
    "# How many titles belong to the genre \"Drama\"?"
   ]
  },
  {
   "cell_type": "code",
   "execution_count": 19,
   "id": "2245a78c-79ee-4ea8-ba60-82e529d4c399",
   "metadata": {},
   "outputs": [
    {
     "name": "stdout",
     "output_type": "stream",
     "text": [
      "Number of Drama titles: 4356\n"
     ]
    }
   ],
   "source": [
    "drama_titles = df[df['genres'].str.contains('Drama', na=False)].shape[0]\n",
    "print(f\"Number of Drama titles: {drama_titles}\")"
   ]
  },
  {
   "cell_type": "markdown",
   "id": "e0a6db9c-e04a-4092-b2e6-de4ffd330439",
   "metadata": {},
   "source": [
    "# Which movie has the highest IMDb rating?"
   ]
  },
  {
   "cell_type": "code",
   "execution_count": 21,
   "id": "070f9354-edd0-47c0-a612-3ed65db53838",
   "metadata": {},
   "outputs": [
    {
     "name": "stdout",
     "output_type": "stream",
     "text": [
      "Highest rated movie: Kataomoi with a rating of 9.5\n"
     ]
    }
   ],
   "source": [
    "highest_rated_title = df.loc[df['imdbAverageRating'].idxmax()]\n",
    "print(f\"Highest rated movie: {highest_rated_title['title']} with a rating of {highest_rated_title['imdbAverageRating']}\")"
   ]
  },
  {
   "cell_type": "markdown",
   "id": "feb35e65-af0a-4667-b4fd-cbd819bb3552",
   "metadata": {},
   "source": [
    "# Create a histogram to show the distribution of IMDb ratings."
   ]
  },
  {
   "cell_type": "code",
   "execution_count": 23,
   "id": "ddfd6185-3cd4-4a12-ad5f-ad773d2abcdb",
   "metadata": {},
   "outputs": [
    {
     "data": {
      "image/png": "[encoded data removed]",
      "text/plain": [
       "<Figure size 640x480 with 1 Axes>"
      ]
     },
     "metadata": {},
     "output_type": "display_data"
    }
   ],
   "source": [
    "plt.hist(df['imdbAverageRating'], bins = 10, edgecolor='black')\n",
    "plt.xlabel('IMDb Rating')\n",
    "plt.ylabel('Frequency')\n",
    "plt.title('Distribution of IMDb Ratings')\n",
    "plt.show()"
   ]
  },
  {
   "cell_type": "markdown",
   "id": "3a6b514c-dbb2-45fc-9b1f-fb73c4167de1",
   "metadata": {},
   "source": [
    "# What is the average IMDb rating for each genre?"
   ]
  },
  {
   "cell_type": "code",
   "execution_count": 26,
   "id": "e1f7c6b7-8eb1-439b-b191-645a2428c586",
   "metadata": {},
   "outputs": [
    {
     "name": "stdout",
     "output_type": "stream",
     "text": [
      "genres_split\n",
      "Action                6.505933\n",
      "Action & Adventure         NaN\n",
      "Adventure             6.719953\n",
      "Animation             6.923052\n",
      "Biography             7.002069\n",
      "Comedy                6.607822\n",
      "Crime                 6.651647\n",
      "Documentary           7.082908\n",
      "Drama                 6.703758\n",
      "Family                6.419209\n",
      "Fantasy               6.441940\n",
      "Game-Show             6.326667\n",
      "History               6.911111\n",
      "Horror                5.713223\n",
      "Kids                  7.950000\n",
      "Music                 6.768444\n",
      "Musical               6.475676\n",
      "Mystery               6.422563\n",
      "News                  6.918182\n",
      "Reality               6.000000\n",
      "Reality-TV            6.519414\n",
      "Romance               6.537425\n",
      "Sci-Fi                6.183857\n",
      "Sci-Fi & Fantasy           NaN\n",
      "Science Fiction       5.500000\n",
      "Short                 6.430952\n",
      "Soap                       NaN\n",
      "Sport                 6.856250\n",
      "TV Movie                   NaN\n",
      "Talk-Show             7.281818\n",
      "Thriller              6.006279\n",
      "War                   6.805195\n",
      "Western               6.419048\n",
      "Name: imdbAverageRating, dtype: float64\n"
     ]
    }
   ],
   "source": [
    "df['genres_split'] = df['genres'].str.split(', ')\n",
    "genres_explode = df.explode('genres_split')\n",
    "average_rating_per_genre = genres_explode.groupby('genres_split')['imdbAverageRating'].mean()\n",
    "print(average_rating_per_genre)"
   ]
  },
  {
   "cell_type": "markdown",
   "id": "8451264c-9dd4-4594-a4d2-42c181f5062b",
   "metadata": {},
   "source": [
    "# Find movies that have an IMDb rating above 8 and more than 500,000 votes.\n"
   ]
  },
  {
   "cell_type": "code",
   "execution_count": 31,
   "id": "f11efdf0-6450-4623-a531-0b70488bb46a",
   "metadata": {},
   "outputs": [
    {
     "name": "stdout",
     "output_type": "stream",
     "text": [
      "                                                  title  imdbAverageRating  \\\n",
      "2                                          Forrest Gump                8.8   \n",
      "5     Pirates of the Caribbean: The Curse of the Bla...                8.1   \n",
      "8                                   Million Dollar Baby                8.1   \n",
      "10                                              Memento                8.4   \n",
      "11                                         Blade Runner                8.1   \n",
      "...                                                 ...                ...   \n",
      "6079                                       Prison Break                8.3   \n",
      "6081                                         The Office                9.0   \n",
      "6144                                               Lost                8.3   \n",
      "6306                                           Sherlock                9.1   \n",
      "7094                                     Rick and Morty                9.1   \n",
      "\n",
      "      imdbNumVotes  \n",
      "2        2320505.0  \n",
      "5        1238597.0  \n",
      "8         733391.0  \n",
      "10       1350479.0  \n",
      "11        838768.0  \n",
      "...            ...  \n",
      "6079      603696.0  \n",
      "6081      746113.0  \n",
      "6144      619051.0  \n",
      "6306     1024983.0  \n",
      "7094      627308.0  \n",
      "\n",
      "[70 rows x 3 columns]\n"
     ]
    }
   ],
   "source": [
    "high_rated_popular_titles = df[(df['imdbAverageRating'] > 8) & (df['imdbNumVotes'] > 500000)]\n",
    "print(high_rated_popular_titles[['title', 'imdbAverageRating', 'imdbNumVotes']])"
   ]
  },
  {
   "cell_type": "markdown",
   "id": "aa43612a-7344-460e-9373-f284d21e9165",
   "metadata": {},
   "source": [
    "# Create a bar chart showing the number of movies released each year."
   ]
  },
  {
   "cell_type": "code",
   "execution_count": 37,
   "id": "529e7928-26cf-4f99-af4d-43c736237927",
   "metadata": {},
   "outputs": [
    {
     "data": {
      "image/png": "[encoded data removed]",
      "text/plain": [
       "<Figure size 1000x600 with 1 Axes>"
      ]
     },
     "metadata": {},
     "output_type": "display_data"
    }
   ],
   "source": [
    "titles_per_year = df['releaseYear'].value_counts().sort_index()\n",
    "plt.figure(figsize=(10, 6))\n",
    "plt.bar(titles_per_year.index, titles_per_year.values, color ='skyblue')\n",
    "plt.xlabel('Year')\n",
    "plt.ylabel('Number of Titles')\n",
    "plt.title('Number of Movies Released Each Year')\n",
    "plt.grid(axis='y')\n",
    "plt.show()"
   ]
  },
  {
   "cell_type": "markdown",
   "id": "662b0fa7-5075-4604-9e93-f632d2e15cf3",
   "metadata": {},
   "source": [
    "# Create a new column called \"RatingCategory\" that classifies movies as \"Excellent\" (rating > 8), \"Good\" (rating between 6 and 8), or \"Average\" (rating < 6)."
   ]
  },
  {
   "cell_type": "code",
   "execution_count": 41,
   "id": "00bb7432-9fe7-40cf-8bed-c98b8b41889c",
   "metadata": {},
   "outputs": [
    {
     "name": "stdout",
     "output_type": "stream",
     "text": [
      "                 title  imdbAverageRating RatingCategory\n",
      "0                Ariel                7.4           Good\n",
      "1  Shadows in Paradise                7.5           Good\n",
      "2         Forrest Gump                8.8      Excellent\n",
      "3    The Fifth Element                7.6           Good\n",
      "4   My Life Without Me                7.4           Good\n"
     ]
    }
   ],
   "source": [
    "def categorize_rating(rating):\n",
    "    if rating > 8:\n",
    "        return 'Excellent'\n",
    "    elif 6 <= rating <= 8:\n",
    "        return 'Good'\n",
    "    else:\n",
    "        return 'Average'\n",
    "\n",
    "df['RatingCategory'] = df['imdbAverageRating'].apply(categorize_rating)\n",
    "print(df[['title', 'imdbAverageRating', 'RatingCategory']].head())"
   ]
  },
  {
   "cell_type": "code",
   "execution_count": null,
   "id": "83482785-cd17-430d-a8e8-e02dfad8a4c0",
   "metadata": {},
   "outputs": [],
   "source": []
  }
 ],
 "metadata": {
  "kernelspec": {
   "display_name": "Python 3 (ipykernel)",
   "language": "python",
   "name": "python3"
  },
  "language_info": {
   "codemirror_mode": {
    "name": "ipython",
    "version": 3
   },
   "file_extension": ".py",
   "mimetype": "text/x-python",
   "name": "python",
   "nbconvert_exporter": "python",
   "pygments_lexer": "ipython3",
   "version": "3.13.0"
  }
 },
 "nbformat": 4,
 "nbformat_minor": 5
}
